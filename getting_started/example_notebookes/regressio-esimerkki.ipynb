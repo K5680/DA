{
 "cells": [
  {
   "cell_type": "markdown",
   "metadata": {},
   "source": [
    "## Rantaviivan vaikutus mökin hintaan - esimerkki"
   ]
  },
  {
   "cell_type": "code",
   "execution_count": 1,
   "metadata": {
    "collapsed": true
   },
   "outputs": [],
   "source": [
    "# Lähteenä käytetty monistetta:\n",
    "# http://myy.haaga-helia.fi/~taaak/m/regressio.pdf (Lineaariset regressiomallit)\n",
    "\n",
    "# tuodaan scipy & numpy\n",
    "import scipy.stats.stats as sc\n",
    "import numpy as np"
   ]
  },
  {
   "cell_type": "code",
   "execution_count": 2,
   "metadata": {
    "collapsed": true
   },
   "outputs": [],
   "source": [
    "# tonttien rantaviiva\n",
    "rantaviiva=([30,35,40,50,55,60,60,70,80,85])\n",
    "# mökkien pinta-alat\n",
    "pinta_alat=([50,42,25,30,45,24,60,34,32,28])\n",
    "# myyntihinnat\n",
    "myyntihinta=([95,95,80,100,135,100,210,160,150,150])"
   ]
  },
  {
   "cell_type": "code",
   "execution_count": 3,
   "metadata": {},
   "outputs": [
    {
     "name": "stdout",
     "output_type": "stream",
     "text": [
      "(0.64133817274584626, 0.045655479428298291)\n",
      "(0.48070165384419639, 0.15961285986266319)\n"
     ]
    }
   ],
   "source": [
    "# lasketaan Pearsonin korrelaatiokertoimet / perform cross-correlation for all data points\n",
    "print(sc.pearsonr(rantaviiva,myyntihinta))\n",
    "print(sc.pearsonr(pinta_alat,myyntihinta))"
   ]
  },
  {
   "cell_type": "code",
   "execution_count": 4,
   "metadata": {
    "collapsed": true
   },
   "outputs": [],
   "source": [
    "# rantaviiva (0,64) korreloi enemmän kuin pinta-ala (0,48)\n",
    "# Myyntihinta korreloi voimakkaammin rantaviivan kanssa, valitaan\n",
    "# se selittäväksi tekijäksi."
   ]
  },
  {
   "cell_type": "code",
   "execution_count": 5,
   "metadata": {
    "collapsed": true
   },
   "outputs": [],
   "source": [
    "# tuodaan pandas\n",
    "import pandas as pd"
   ]
  },
  {
   "cell_type": "code",
   "execution_count": 6,
   "metadata": {
    "collapsed": true
   },
   "outputs": [],
   "source": [
    "# luodaan listoista dataframe\n",
    "# .T kääntää akselit\n",
    "#\n",
    "df = pd.DataFrame([myyntihinta,\n",
    "                   pinta_alat,\n",
    "                   rantaviiva],\n",
    "                   index=['Myyntihinta', 'Pinta alat', 'Rantaviiva']).T"
   ]
  },
  {
   "cell_type": "code",
   "execution_count": 7,
   "metadata": {},
   "outputs": [
    {
     "data": {
      "text/html": [
       "<div>\n",
       "<style>\n",
       "    .dataframe thead tr:only-child th {\n",
       "        text-align: right;\n",
       "    }\n",
       "\n",
       "    .dataframe thead th {\n",
       "        text-align: left;\n",
       "    }\n",
       "\n",
       "    .dataframe tbody tr th {\n",
       "        vertical-align: top;\n",
       "    }\n",
       "</style>\n",
       "<table border=\"1\" class=\"dataframe\">\n",
       "  <thead>\n",
       "    <tr style=\"text-align: right;\">\n",
       "      <th></th>\n",
       "      <th>Myyntihinta</th>\n",
       "      <th>Pinta alat</th>\n",
       "      <th>Rantaviiva</th>\n",
       "    </tr>\n",
       "  </thead>\n",
       "  <tbody>\n",
       "    <tr>\n",
       "      <th>Myyntihinta</th>\n",
       "      <td>1.000000</td>\n",
       "      <td>0.480702</td>\n",
       "      <td>0.641338</td>\n",
       "    </tr>\n",
       "    <tr>\n",
       "      <th>Pinta alat</th>\n",
       "      <td>0.480702</td>\n",
       "      <td>1.000000</td>\n",
       "      <td>-0.305457</td>\n",
       "    </tr>\n",
       "    <tr>\n",
       "      <th>Rantaviiva</th>\n",
       "      <td>0.641338</td>\n",
       "      <td>-0.305457</td>\n",
       "      <td>1.000000</td>\n",
       "    </tr>\n",
       "  </tbody>\n",
       "</table>\n",
       "</div>"
      ],
      "text/plain": [
       "             Myyntihinta  Pinta alat  Rantaviiva\n",
       "Myyntihinta     1.000000    0.480702    0.641338\n",
       "Pinta alat      0.480702    1.000000   -0.305457\n",
       "Rantaviiva      0.641338   -0.305457    1.000000"
      ]
     },
     "execution_count": 7,
     "metadata": {},
     "output_type": "execute_result"
    }
   ],
   "source": [
    "# näytä korrelaatiot pandasilla\n",
    "df.corr()"
   ]
  },
  {
   "cell_type": "code",
   "execution_count": 8,
   "metadata": {
    "collapsed": true
   },
   "outputs": [],
   "source": [
    "# lisätään myyntihinnan keskiarvo\n",
    "df['Keskiarvo'] = df['Myyntihinta'].mean()"
   ]
  },
  {
   "cell_type": "code",
   "execution_count": 9,
   "metadata": {},
   "outputs": [
    {
     "data": {
      "text/html": [
       "<div>\n",
       "<style>\n",
       "    .dataframe thead tr:only-child th {\n",
       "        text-align: right;\n",
       "    }\n",
       "\n",
       "    .dataframe thead th {\n",
       "        text-align: left;\n",
       "    }\n",
       "\n",
       "    .dataframe tbody tr th {\n",
       "        vertical-align: top;\n",
       "    }\n",
       "</style>\n",
       "<table border=\"1\" class=\"dataframe\">\n",
       "  <thead>\n",
       "    <tr style=\"text-align: right;\">\n",
       "      <th></th>\n",
       "      <th>Myyntihinta</th>\n",
       "      <th>Pinta alat</th>\n",
       "      <th>Rantaviiva</th>\n",
       "      <th>Keskiarvo</th>\n",
       "    </tr>\n",
       "  </thead>\n",
       "  <tbody>\n",
       "    <tr>\n",
       "      <th>0</th>\n",
       "      <td>95</td>\n",
       "      <td>50</td>\n",
       "      <td>30</td>\n",
       "      <td>127.5</td>\n",
       "    </tr>\n",
       "    <tr>\n",
       "      <th>1</th>\n",
       "      <td>95</td>\n",
       "      <td>42</td>\n",
       "      <td>35</td>\n",
       "      <td>127.5</td>\n",
       "    </tr>\n",
       "    <tr>\n",
       "      <th>2</th>\n",
       "      <td>80</td>\n",
       "      <td>25</td>\n",
       "      <td>40</td>\n",
       "      <td>127.5</td>\n",
       "    </tr>\n",
       "    <tr>\n",
       "      <th>3</th>\n",
       "      <td>100</td>\n",
       "      <td>30</td>\n",
       "      <td>50</td>\n",
       "      <td>127.5</td>\n",
       "    </tr>\n",
       "    <tr>\n",
       "      <th>4</th>\n",
       "      <td>135</td>\n",
       "      <td>45</td>\n",
       "      <td>55</td>\n",
       "      <td>127.5</td>\n",
       "    </tr>\n",
       "    <tr>\n",
       "      <th>5</th>\n",
       "      <td>100</td>\n",
       "      <td>24</td>\n",
       "      <td>60</td>\n",
       "      <td>127.5</td>\n",
       "    </tr>\n",
       "    <tr>\n",
       "      <th>6</th>\n",
       "      <td>210</td>\n",
       "      <td>60</td>\n",
       "      <td>60</td>\n",
       "      <td>127.5</td>\n",
       "    </tr>\n",
       "    <tr>\n",
       "      <th>7</th>\n",
       "      <td>160</td>\n",
       "      <td>34</td>\n",
       "      <td>70</td>\n",
       "      <td>127.5</td>\n",
       "    </tr>\n",
       "    <tr>\n",
       "      <th>8</th>\n",
       "      <td>150</td>\n",
       "      <td>32</td>\n",
       "      <td>80</td>\n",
       "      <td>127.5</td>\n",
       "    </tr>\n",
       "    <tr>\n",
       "      <th>9</th>\n",
       "      <td>150</td>\n",
       "      <td>28</td>\n",
       "      <td>85</td>\n",
       "      <td>127.5</td>\n",
       "    </tr>\n",
       "  </tbody>\n",
       "</table>\n",
       "</div>"
      ],
      "text/plain": [
       "   Myyntihinta  Pinta alat  Rantaviiva  Keskiarvo\n",
       "0           95          50          30      127.5\n",
       "1           95          42          35      127.5\n",
       "2           80          25          40      127.5\n",
       "3          100          30          50      127.5\n",
       "4          135          45          55      127.5\n",
       "5          100          24          60      127.5\n",
       "6          210          60          60      127.5\n",
       "7          160          34          70      127.5\n",
       "8          150          32          80      127.5\n",
       "9          150          28          85      127.5"
      ]
     },
     "execution_count": 9,
     "metadata": {},
     "output_type": "execute_result"
    }
   ],
   "source": [
    "df"
   ]
  },
  {
   "cell_type": "code",
   "execution_count": 10,
   "metadata": {},
   "outputs": [
    {
     "data": {
      "text/html": [
       "<div>\n",
       "<style>\n",
       "    .dataframe thead tr:only-child th {\n",
       "        text-align: right;\n",
       "    }\n",
       "\n",
       "    .dataframe thead th {\n",
       "        text-align: left;\n",
       "    }\n",
       "\n",
       "    .dataframe tbody tr th {\n",
       "        vertical-align: top;\n",
       "    }\n",
       "</style>\n",
       "<table border=\"1\" class=\"dataframe\">\n",
       "  <thead>\n",
       "    <tr style=\"text-align: right;\">\n",
       "      <th></th>\n",
       "      <th>Myyntihinta</th>\n",
       "      <th>Pinta alat</th>\n",
       "      <th>Rantaviiva</th>\n",
       "      <th>Keskiarvo</th>\n",
       "      <th>Jäännös</th>\n",
       "    </tr>\n",
       "  </thead>\n",
       "  <tbody>\n",
       "    <tr>\n",
       "      <th>0</th>\n",
       "      <td>95</td>\n",
       "      <td>50</td>\n",
       "      <td>30</td>\n",
       "      <td>127.5</td>\n",
       "      <td>-32.5</td>\n",
       "    </tr>\n",
       "    <tr>\n",
       "      <th>1</th>\n",
       "      <td>95</td>\n",
       "      <td>42</td>\n",
       "      <td>35</td>\n",
       "      <td>127.5</td>\n",
       "      <td>-32.5</td>\n",
       "    </tr>\n",
       "    <tr>\n",
       "      <th>2</th>\n",
       "      <td>80</td>\n",
       "      <td>25</td>\n",
       "      <td>40</td>\n",
       "      <td>127.5</td>\n",
       "      <td>-47.5</td>\n",
       "    </tr>\n",
       "    <tr>\n",
       "      <th>3</th>\n",
       "      <td>100</td>\n",
       "      <td>30</td>\n",
       "      <td>50</td>\n",
       "      <td>127.5</td>\n",
       "      <td>-27.5</td>\n",
       "    </tr>\n",
       "    <tr>\n",
       "      <th>4</th>\n",
       "      <td>135</td>\n",
       "      <td>45</td>\n",
       "      <td>55</td>\n",
       "      <td>127.5</td>\n",
       "      <td>7.5</td>\n",
       "    </tr>\n",
       "    <tr>\n",
       "      <th>5</th>\n",
       "      <td>100</td>\n",
       "      <td>24</td>\n",
       "      <td>60</td>\n",
       "      <td>127.5</td>\n",
       "      <td>-27.5</td>\n",
       "    </tr>\n",
       "    <tr>\n",
       "      <th>6</th>\n",
       "      <td>210</td>\n",
       "      <td>60</td>\n",
       "      <td>60</td>\n",
       "      <td>127.5</td>\n",
       "      <td>82.5</td>\n",
       "    </tr>\n",
       "    <tr>\n",
       "      <th>7</th>\n",
       "      <td>160</td>\n",
       "      <td>34</td>\n",
       "      <td>70</td>\n",
       "      <td>127.5</td>\n",
       "      <td>32.5</td>\n",
       "    </tr>\n",
       "    <tr>\n",
       "      <th>8</th>\n",
       "      <td>150</td>\n",
       "      <td>32</td>\n",
       "      <td>80</td>\n",
       "      <td>127.5</td>\n",
       "      <td>22.5</td>\n",
       "    </tr>\n",
       "    <tr>\n",
       "      <th>9</th>\n",
       "      <td>150</td>\n",
       "      <td>28</td>\n",
       "      <td>85</td>\n",
       "      <td>127.5</td>\n",
       "      <td>22.5</td>\n",
       "    </tr>\n",
       "  </tbody>\n",
       "</table>\n",
       "</div>"
      ],
      "text/plain": [
       "   Myyntihinta  Pinta alat  Rantaviiva  Keskiarvo  Jäännös\n",
       "0           95          50          30      127.5    -32.5\n",
       "1           95          42          35      127.5    -32.5\n",
       "2           80          25          40      127.5    -47.5\n",
       "3          100          30          50      127.5    -27.5\n",
       "4          135          45          55      127.5      7.5\n",
       "5          100          24          60      127.5    -27.5\n",
       "6          210          60          60      127.5     82.5\n",
       "7          160          34          70      127.5     32.5\n",
       "8          150          32          80      127.5     22.5\n",
       "9          150          28          85      127.5     22.5"
      ]
     },
     "execution_count": 10,
     "metadata": {},
     "output_type": "execute_result"
    }
   ],
   "source": [
    "# lisätään jäännös\n",
    "df['Jäännös'] = df['Myyntihinta'] - df['Keskiarvo']\n",
    "df"
   ]
  },
  {
   "cell_type": "code",
   "execution_count": 11,
   "metadata": {
    "collapsed": true
   },
   "outputs": [],
   "source": [
    "# tuodaan pyplot\n",
    "import matplotlib.pyplot as plt"
   ]
  },
  {
   "cell_type": "code",
   "execution_count": 12,
   "metadata": {},
   "outputs": [
    {
     "data": {
      "image/png": "[encoded data removed]",
      "text/plain": [
       "<matplotlib.figure.Figure at 0x7f0da4803208>"
      ]
     },
     "metadata": {},
     "output_type": "display_data"
    }
   ],
   "source": [
    "# näytä arvot kaaviossa\n",
    "df.plot.scatter(x='Rantaviiva', y='Myyntihinta')\n",
    "plt.show()"
   ]
  },
  {
   "cell_type": "code",
   "execution_count": 13,
   "metadata": {
    "collapsed": true
   },
   "outputs": [],
   "source": [
    "# Pienimmän neliösumman keino  /  Least Squares Method\n",
    "#\n",
    "# https://docs.scipy.org/doc/scipy/reference/generated/scipy.stats.linregress.html"
   ]
  },
  {
   "cell_type": "code",
   "execution_count": 14,
   "metadata": {
    "collapsed": true
   },
   "outputs": [],
   "source": [
    "# linregress = lineaarinen regressio kahdella arvosarjalla\n",
    "slope, intercept, r_value, p_value, std_err = sc.linregress(df.Rantaviiva, df.Myyntihinta)"
   ]
  },
  {
   "cell_type": "code",
   "execution_count": 15,
   "metadata": {},
   "outputs": [
    {
     "data": {
      "text/plain": [
       "(1.4127764127764129,\n",
       " 47.67813267813267,\n",
       " 0.64133817274584626,\n",
       " 0.045655479428298264,\n",
       " 0.59756199051672287)"
      ]
     },
     "execution_count": 15,
     "metadata": {},
     "output_type": "execute_result"
    }
   ],
   "source": [
    "# Kulmakerroin, leikkauspiste, korrelaatiokerroin\n",
    "# p-arvo/todennäköisyys, keskivirhe\n",
    "#\n",
    "# Slope, intercept, correlation coefficient\n",
    "# p-value/propability value, standard error\n",
    "\n",
    "slope, intercept, r_value, p_value, std_err"
   ]
  },
  {
   "cell_type": "code",
   "execution_count": 16,
   "metadata": {},
   "outputs": [
    {
     "data": {
      "text/plain": [
       "0.41131465182098093"
      ]
     },
     "execution_count": 16,
     "metadata": {},
     "output_type": "execute_result"
    }
   ],
   "source": [
    "# Selitysaste/selityskerroin\n",
    "# Coefficient of determination (r_squared)\n",
    "r_value**2"
   ]
  },
  {
   "cell_type": "code",
   "execution_count": 17,
   "metadata": {
    "collapsed": true
   },
   "outputs": [],
   "source": [
    "y = df.Myyntihinta\n",
    "x = df.Rantaviiva"
   ]
  },
  {
   "cell_type": "code",
   "execution_count": 18,
   "metadata": {
    "scrolled": true
   },
   "outputs": [
    {
     "data": {
      "image/png": "[encoded data removed]",
      "text/plain": [
       "<matplotlib.figure.Figure at 0x7f0d9c9a7e80>"
      ]
     },
     "metadata": {},
     "output_type": "display_data"
    }
   ],
   "source": [
    "### lasketaan lineaarinen regressio\n",
    "\n",
    "# otsikko\n",
    "fig = plt.figure()\n",
    "fig.suptitle('Myyntihinnan yhteys rantaviivaan', fontsize=16)\n",
    "\n",
    "# lukualueiden määrittely (voidaan jättää pois)\n",
    "plt.axis([0.0,100.0, 0.0,250.0])\n",
    "\n",
    "# lisää akselien otsikot\n",
    "plt.ylabel('Myyntihinta', fontsize=12)\n",
    "plt.xlabel('Rantaviiva', fontsize=12)\n",
    "\n",
    "# selittävää tekstiä = regressiosuoran yhtälö + selityskerroin\n",
    "texttitle = ('y=%.3f + %.3f \\n R²=%.4f' % (slope,intercept,r_value**2))\n",
    "fig.text(0.2, 0.8, texttitle, color = 'b', visible = True, \n",
    "         linespacing = 1, weight = 'normal', size = 'large')\n",
    "\n",
    "\n",
    "# arvojen mukaiset pisteet\n",
    "plt.plot(x, y, 'o', label='arvot')\n",
    "\n",
    "# värimääritys \n",
    "viher = (100/255,247/255,144/255)\n",
    "\n",
    "# lineaarinen regressio\n",
    "plt.plot(x, intercept + slope*x, 'r', label='regressiosuora', c=viher)\n",
    "\n",
    "# lisää otsikot\n",
    "plt.legend()\n",
    "\n",
    "# lisätään taustalle verkko\n",
    "plt.grid()\n",
    "\n",
    "# näytä kaavio\n",
    "plt.show()"
   ]
  },
  {
   "cell_type": "code",
   "execution_count": 19,
   "metadata": {},
   "outputs": [
    {
     "data": {
      "text/html": [
       "<div>\n",
       "<style>\n",
       "    .dataframe thead tr:only-child th {\n",
       "        text-align: right;\n",
       "    }\n",
       "\n",
       "    .dataframe thead th {\n",
       "        text-align: left;\n",
       "    }\n",
       "\n",
       "    .dataframe tbody tr th {\n",
       "        vertical-align: top;\n",
       "    }\n",
       "</style>\n",
       "<table border=\"1\" class=\"dataframe\">\n",
       "  <thead>\n",
       "    <tr style=\"text-align: right;\">\n",
       "      <th></th>\n",
       "      <th>Myyntihinta</th>\n",
       "      <th>Pinta alat</th>\n",
       "      <th>Rantaviiva</th>\n",
       "      <th>Keskiarvo</th>\n",
       "      <th>Jäännös</th>\n",
       "      <th>Jäännösneliö</th>\n",
       "    </tr>\n",
       "  </thead>\n",
       "  <tbody>\n",
       "    <tr>\n",
       "      <th>0</th>\n",
       "      <td>95</td>\n",
       "      <td>50</td>\n",
       "      <td>30</td>\n",
       "      <td>127.5</td>\n",
       "      <td>-32.5</td>\n",
       "      <td>1056.25</td>\n",
       "    </tr>\n",
       "    <tr>\n",
       "      <th>1</th>\n",
       "      <td>95</td>\n",
       "      <td>42</td>\n",
       "      <td>35</td>\n",
       "      <td>127.5</td>\n",
       "      <td>-32.5</td>\n",
       "      <td>1056.25</td>\n",
       "    </tr>\n",
       "    <tr>\n",
       "      <th>2</th>\n",
       "      <td>80</td>\n",
       "      <td>25</td>\n",
       "      <td>40</td>\n",
       "      <td>127.5</td>\n",
       "      <td>-47.5</td>\n",
       "      <td>2256.25</td>\n",
       "    </tr>\n",
       "    <tr>\n",
       "      <th>3</th>\n",
       "      <td>100</td>\n",
       "      <td>30</td>\n",
       "      <td>50</td>\n",
       "      <td>127.5</td>\n",
       "      <td>-27.5</td>\n",
       "      <td>756.25</td>\n",
       "    </tr>\n",
       "    <tr>\n",
       "      <th>4</th>\n",
       "      <td>135</td>\n",
       "      <td>45</td>\n",
       "      <td>55</td>\n",
       "      <td>127.5</td>\n",
       "      <td>7.5</td>\n",
       "      <td>56.25</td>\n",
       "    </tr>\n",
       "    <tr>\n",
       "      <th>5</th>\n",
       "      <td>100</td>\n",
       "      <td>24</td>\n",
       "      <td>60</td>\n",
       "      <td>127.5</td>\n",
       "      <td>-27.5</td>\n",
       "      <td>756.25</td>\n",
       "    </tr>\n",
       "    <tr>\n",
       "      <th>6</th>\n",
       "      <td>210</td>\n",
       "      <td>60</td>\n",
       "      <td>60</td>\n",
       "      <td>127.5</td>\n",
       "      <td>82.5</td>\n",
       "      <td>6806.25</td>\n",
       "    </tr>\n",
       "    <tr>\n",
       "      <th>7</th>\n",
       "      <td>160</td>\n",
       "      <td>34</td>\n",
       "      <td>70</td>\n",
       "      <td>127.5</td>\n",
       "      <td>32.5</td>\n",
       "      <td>1056.25</td>\n",
       "    </tr>\n",
       "    <tr>\n",
       "      <th>8</th>\n",
       "      <td>150</td>\n",
       "      <td>32</td>\n",
       "      <td>80</td>\n",
       "      <td>127.5</td>\n",
       "      <td>22.5</td>\n",
       "      <td>506.25</td>\n",
       "    </tr>\n",
       "    <tr>\n",
       "      <th>9</th>\n",
       "      <td>150</td>\n",
       "      <td>28</td>\n",
       "      <td>85</td>\n",
       "      <td>127.5</td>\n",
       "      <td>22.5</td>\n",
       "      <td>506.25</td>\n",
       "    </tr>\n",
       "  </tbody>\n",
       "</table>\n",
       "</div>"
      ],
      "text/plain": [
       "   Myyntihinta  Pinta alat  Rantaviiva  Keskiarvo  Jäännös  Jäännösneliö\n",
       "0           95          50          30      127.5    -32.5       1056.25\n",
       "1           95          42          35      127.5    -32.5       1056.25\n",
       "2           80          25          40      127.5    -47.5       2256.25\n",
       "3          100          30          50      127.5    -27.5        756.25\n",
       "4          135          45          55      127.5      7.5         56.25\n",
       "5          100          24          60      127.5    -27.5        756.25\n",
       "6          210          60          60      127.5     82.5       6806.25\n",
       "7          160          34          70      127.5     32.5       1056.25\n",
       "8          150          32          80      127.5     22.5        506.25\n",
       "9          150          28          85      127.5     22.5        506.25"
      ]
     },
     "execution_count": 19,
     "metadata": {},
     "output_type": "execute_result"
    }
   ],
   "source": [
    "# lisätään jäännösneliö\n",
    "df['Jäännösneliö'] = df['Jäännös']**2\n",
    "df"
   ]
  },
  {
   "cell_type": "code",
   "execution_count": 20,
   "metadata": {},
   "outputs": [
    {
     "data": {
      "text/plain": [
       "14812.5"
      ]
     },
     "execution_count": 20,
     "metadata": {},
     "output_type": "execute_result"
    }
   ],
   "source": [
    "# jäännösneliösumma\n",
    "jaannos_nelio_summa = df['Jäännösneliö'].sum()\n",
    "jaannos_nelio_summa"
   ]
  },
  {
   "cell_type": "markdown",
   "metadata": {},
   "source": [
    "### Lineaarinen regressio Seabornilla"
   ]
  },
  {
   "cell_type": "code",
   "execution_count": 21,
   "metadata": {
    "collapsed": true
   },
   "outputs": [],
   "source": [
    "# tuodaan seaborn -kirjasto\n",
    "import seaborn as sns"
   ]
  },
  {
   "cell_type": "code",
   "execution_count": 22,
   "metadata": {},
   "outputs": [
    {
     "data": {
      "image/png": "[encoded data removed]",
      "text/plain": [
       "<matplotlib.figure.Figure at 0x7f0d9c34bac8>"
      ]
     },
     "metadata": {},
     "output_type": "display_data"
    }
   ],
   "source": [
    "a = sns.regplot('Rantaviiva', # Horizontal axis\n",
    "           'Myyntihinta',    # Vertical axis\n",
    "           data=df)\n",
    "\n",
    "a.set(ylim=(0, 250), xlim=(0,100)) # arvoalue   #,xlabel='common xlabel', ylabel='common ylabel') # lisää akselien otsikot\n",
    "\n",
    "# gridlines darkgrid, whitegrid, dark, white or ticks\n",
    "sns.set_style(\"whitegrid\")\n",
    "\n",
    "plt.show()"
   ]
  },
  {
   "cell_type": "markdown",
   "metadata": {},
   "source": [
    "### Lineaarisen regressiosuoran yhtälö"
   ]
  },
  {
   "cell_type": "code",
   "execution_count": 37,
   "metadata": {},
   "outputs": [
    {
     "name": "stdout",
     "output_type": "stream",
     "text": [
      "212.395577396 -7915.23341523\n"
     ]
    }
   ],
   "source": [
    "# (https://www.youtube.com/watch?v=qPUKBhHEmNI)\n",
    "#\n",
    "# Regressiosuoran yhtälö: y= b0 + b1*x\n",
    "#\n",
    "# Pienimmän neliösumman menetelmän ratkaisukaavat:\n",
    "# b1 = (n*sum(xi*yi)-(sum(xi))*(sum(yi))) / n*sum(xi²)-(sum(xi)²)\n",
    "# b0 = sum(y1-b1*sum(xi))/n   (= ÿ-b1*ẍ)\n",
    "#\n",
    "# b0 = piste, jossa suora leikkaa y-akselin\n",
    "# b1 = suoran kulmakerroin (miten paljon y muuttuu kun x kasvaa yksikön)\n",
    "\n",
    "b1 = (10 * sum(df.Rantaviiva)*sum(df.Myyntihinta) - sum(df.Rantaviiva) * sum(df.Myyntihinta)) / (10 * (sum(df.Rantaviiva**2)) - sum(df.Rantaviiva)**2)\n",
    "b0 = (sum(df.Myyntihinta) - (b1 * sum(df.Rantaviiva)))/15\n",
    "print (b1, b0)"
   ]
  },
  {
   "cell_type": "code",
   "execution_count": null,
   "metadata": {
    "collapsed": true
   },
   "outputs": [],
   "source": []
  }
 ],
 "metadata": {
  "kernelspec": {
   "display_name": "Python 3",
   "language": "python",
   "name": "python3"
  },
  "language_info": {
   "codemirror_mode": {
    "name": "ipython",
    "version": 3
   },
   "file_extension": ".py",
   "mimetype": "text/x-python",
   "name": "python",
   "nbconvert_exporter": "python",
   "pygments_lexer": "ipython3",
   "version": "3.6.3"
  }
 },
 "nbformat": 4,
 "nbformat_minor": 2
}
